{
 "cells": [
  {
   "cell_type": "code",
   "execution_count": 1,
   "metadata": {},
   "outputs": [],
   "source": [
    "from datasets import load_dataset"
   ]
  },
  {
   "cell_type": "code",
   "execution_count": 2,
   "metadata": {},
   "outputs": [
    {
     "name": "stderr",
     "output_type": "stream",
     "text": [
      "Reusing dataset sem_eval2016_multi (/Users/cui/.cache/huggingface/datasets/Yaxin___sem_eval2016_multi/restaurants_english/0.0.1/e32edca4f90458fdb5a1fb18b568a650fa5065f11866371c857e2d6732580c5f)\n"
     ]
    },
    {
     "data": {
      "application/vnd.jupyter.widget-view+json": {
       "model_id": "e85816f8477b4c59a62b516883274db2",
       "version_major": 2,
       "version_minor": 0
      },
      "text/plain": [
       "  0%|          | 0/3 [00:00<?, ?it/s]"
      ]
     },
     "metadata": {},
     "output_type": "display_data"
    }
   ],
   "source": [
    "semEval2015 = load_dataset('Yaxin/SemEval2015', 'restaurants')"
   ]
  },
  {
   "cell_type": "code",
   "execution_count": 3,
   "metadata": {},
   "outputs": [
    {
     "name": "stdout",
     "output_type": "stream",
     "text": [
      "train\n",
      "validation\n",
      "test\n"
     ]
    }
   ],
   "source": [
    "for phrase in ['train', 'validation', 'test']:\n",
    "    print(phrase)\n",
    "    for example in semEval2015[phrase]:\n",
    "        text = example['text']\n",
    "        opinions = example['opinions']\n",
    "        for opinion in opinions:\n",
    "            if opinion['target'].lower()!='null':\n",
    "                try:\n",
    "                    if opinion['from']=='':\n",
    "                        print(example)\n",
    "                        \n",
    "                    if opinion['target'].lower()!=text[int(opinion['from']): int(opinion['to'])].lower():\n",
    "                        print(example)\n",
    "                except Exception as e:\n",
    "                    print(e)"
   ]
  },
  {
   "cell_type": "code",
   "execution_count": 4,
   "metadata": {},
   "outputs": [],
   "source": [
    "from TagUtils import tag_example"
   ]
  },
  {
   "cell_type": "code",
   "execution_count": 5,
   "metadata": {},
   "outputs": [],
   "source": [
    "for phrase in ['train', 'validation', 'test']:\n",
    "    with open(f'semEval2016_restaurants_english_{phrase}.txt', 'w') as f:\n",
    "        for example in semEval2016[phrase]:\n",
    "            opinions = [opinion['target'] for opinion in  example['opinions']]\n",
    "            f.write(str(opinions)+'\\n')\n",
    "            \n",
    "            r = tag_example(example)\n",
    "            \n",
    "            tokens = r['tokens']\n",
    "            tags = r['ate_tags']\n",
    "            for token, tag in zip(tokens, tags):\n",
    "                f.write(f'{token} {tag}\\n')\n",
    "            f.write('\\n')"
   ]
  },
  {
   "cell_type": "code",
   "execution_count": 74,
   "metadata": {},
   "outputs": [],
   "source": []
  }
 ],
 "metadata": {
  "interpreter": {
   "hash": "a7c79f2d0ccdbd12bba26dd7f9ad4a21dda833cb8c019fc133cc7de1db296ef2"
  },
  "kernelspec": {
   "display_name": "Python 3.9.7 ('cui')",
   "language": "python",
   "name": "python3"
  },
  "language_info": {
   "codemirror_mode": {
    "name": "ipython",
    "version": 3
   },
   "file_extension": ".py",
   "mimetype": "text/x-python",
   "name": "python",
   "nbconvert_exporter": "python",
   "pygments_lexer": "ipython3",
   "version": "3.9.7"
  },
  "orig_nbformat": 4
 },
 "nbformat": 4,
 "nbformat_minor": 2
}
