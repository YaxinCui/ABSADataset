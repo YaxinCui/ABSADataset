{
 "cells": [
  {
   "cell_type": "code",
   "execution_count": null,
   "metadata": {},
   "outputs": [],
   "source": [
    "from datasets import load_dataset"
   ]
  },
  {
   "cell_type": "code",
   "execution_count": null,
   "metadata": {},
   "outputs": [],
   "source": [
    "semEval2015Laptops = load_dataset('Yaxin/SemEval2015', 'laptops')"
   ]
  },
  {
   "cell_type": "code",
   "execution_count": 21,
   "metadata": {},
   "outputs": [
    {
     "name": "stdout",
     "output_type": "stream",
     "text": [
      "train\n",
      "validation\n",
      "test\n"
     ]
    }
   ],
   "source": [
    "categories = []\n",
    "for phrase in ['train', 'validation', 'test']:\n",
    "    print(phrase)\n",
    "    for example in semEval2015Laptops[phrase]:\n",
    "        text = example['text']\n",
    "        opinions = example['opinions']\n",
    "        for opinion in opinions:\n",
    "            category = opinion['category']\n",
    "            categories.append(category)"
   ]
  },
  {
   "cell_type": "code",
   "execution_count": 31,
   "metadata": {},
   "outputs": [
    {
     "data": {
      "text/plain": [
       "86"
      ]
     },
     "execution_count": 31,
     "metadata": {},
     "output_type": "execute_result"
    }
   ],
   "source": [
    "len(categories)"
   ]
  },
  {
   "cell_type": "code",
   "execution_count": 25,
   "metadata": {},
   "outputs": [],
   "source": [
    "categories = list(set(categories))"
   ]
  },
  {
   "cell_type": "code",
   "execution_count": 32,
   "metadata": {},
   "outputs": [
    {
     "data": {
      "text/plain": [
       "['POWER_SUPPLY#DESIGN_FEATURES',\n",
       " 'HARDWARE#QUALITY',\n",
       " 'POWER_SUPPLY#OPERATION_PERFORMANCE',\n",
       " 'GRAPHICS#MISCELLANEOUS',\n",
       " 'MOUSE#GENERAL',\n",
       " 'FANS_COOLING#DESIGN_FEATURES',\n",
       " 'MOUSE#QUALITY',\n",
       " 'OS#MISCELLANEOUS',\n",
       " 'KEYBOARD#OPERATION_PERFORMANCE',\n",
       " 'CPU#QUALITY',\n",
       " 'WARRANTY#GENERAL',\n",
       " 'CPU#MISCELLANEOUS',\n",
       " 'SHIPPING#PRICE',\n",
       " 'PORTS#DESIGN_FEATURES',\n",
       " 'WARRANTY#PRICE',\n",
       " 'LAPTOP#GENERAL',\n",
       " 'MOUSE#DESIGN_FEATURES',\n",
       " 'OS#DESIGN_FEATURES',\n",
       " 'LAPTOP#MISCELLANEOUS',\n",
       " 'LAPTOP#PRICE',\n",
       " 'DISPLAY#GENERAL',\n",
       " 'OS#USABILITY',\n",
       " 'MULTIMEDIA_DEVICES#DESIGN_FEATURES',\n",
       " 'SOFTWARE#GENERAL',\n",
       " 'GRAPHICS#GENERAL',\n",
       " 'SHIPPING#QUALITY',\n",
       " 'SUPPORT#QUALITY',\n",
       " 'SUPPORT#MISCELLANEOUS',\n",
       " 'OS#QUALITY',\n",
       " 'BATTERY#GENERAL',\n",
       " 'HARD_DISC#QUALITY',\n",
       " 'OS#OPERATION_PERFORMANCE',\n",
       " 'SOFTWARE#PRICE',\n",
       " 'OS#GENERAL',\n",
       " 'LAPTOP#CONNECTIVITY',\n",
       " 'CPU#DESIGN_FEATURES',\n",
       " 'SUPPORT#GENERAL',\n",
       " 'PORTS#OPERATION_PERFORMANCE',\n",
       " 'HARDWARE#OPERATION_PERFORMANCE',\n",
       " 'BATTERY#DESIGN_FEATURES',\n",
       " 'BATTERY#QUALITY',\n",
       " 'LAPTOP#USABILITY',\n",
       " 'GRAPHICS#QUALITY',\n",
       " 'GRAPHICS#DESIGN_FEATURES',\n",
       " 'CPU#OPERATION_PERFORMANCE',\n",
       " 'DISPLAY#OPERATION_PERFORMANCE',\n",
       " 'BATTERY#MISCELLANEOUS',\n",
       " 'MULTIMEDIA_DEVICES#USABILITY',\n",
       " 'SOFTWARE#DESIGN_FEATURES',\n",
       " 'FANS_COOLING#QUALITY',\n",
       " 'MULTIMEDIA_DEVICES#GENERAL',\n",
       " 'HARDWARE#GENERAL',\n",
       " 'MULTIMEDIA_DEVICES#OPERATION_PERFORMANCE',\n",
       " 'MULTIMEDIA_DEVICES#QUALITY',\n",
       " 'DISPLAY#USABILITY',\n",
       " 'BATTERY#OPERATION_PERFORMANCE',\n",
       " 'MULTIMEDIA_DEVICES#MISCELLANEOUS',\n",
       " 'HARD_DISC#DESIGN_FEATURES',\n",
       " 'DISPLAY#DESIGN_FEATURES',\n",
       " 'MOTHERBOARD#QUALITY',\n",
       " 'LAPTOP#OPERATION_PERFORMANCE',\n",
       " 'WARRANTY#MISCELLANEOUS',\n",
       " 'OPTICAL_DRIVES#OPERATION_PERFORMANCE',\n",
       " 'LAPTOP#QUALITY',\n",
       " 'FANS_COOLING#OPERATION_PERFORMANCE',\n",
       " 'SOFTWARE#OPERATION_PERFORMANCE',\n",
       " 'SOFTWARE#MISCELLANEOUS',\n",
       " 'SOFTWARE#USABILITY',\n",
       " 'KEYBOARD#USABILITY',\n",
       " 'POWER_SUPPLY#QUALITY',\n",
       " 'DISPLAY#MISCELLANEOUS',\n",
       " 'MOUSE#USABILITY',\n",
       " 'KEYBOARD#QUALITY',\n",
       " 'KEYBOARD#GENERAL',\n",
       " 'SOFTWARE#QUALITY',\n",
       " 'OPTICAL_DRIVES#QUALITY',\n",
       " 'DISPLAY#QUALITY',\n",
       " 'POWER_SUPPLY#MISCELLANEOUS',\n",
       " 'LAPTOP#DESIGN_FEATURES',\n",
       " 'KEYBOARD#DESIGN_FEATURES',\n",
       " 'SUPPORT#PRICE',\n",
       " 'PORTS#QUALITY',\n",
       " 'LAPTOP#PORTABILITY',\n",
       " 'MEMORY#DESIGN_FEATURES',\n",
       " 'COMPANY#GENERAL',\n",
       " 'MOUSE#OPERATION_PERFORMANCE']"
      ]
     },
     "execution_count": 32,
     "metadata": {},
     "output_type": "execute_result"
    }
   ],
   "source": [
    "categories"
   ]
  },
  {
   "cell_type": "code",
   "execution_count": 27,
   "metadata": {},
   "outputs": [],
   "source": [
    "head_category = []\n",
    "for category in categories:\n",
    "    split_category = category.split('#')\n",
    "    head_category.append(split_category[0])"
   ]
  },
  {
   "cell_type": "code",
   "execution_count": 35,
   "metadata": {},
   "outputs": [],
   "source": [
    "tail_category = []\n",
    "for category in categories:\n",
    "    split_category = category.split('#')\n",
    "    tail_category.append(split_category[1])\n",
    "\n",
    "tail_category = list(set(tail_category))"
   ]
  },
  {
   "cell_type": "code",
   "execution_count": 36,
   "metadata": {},
   "outputs": [
    {
     "data": {
      "text/plain": [
       "['DESIGN_FEATURES',\n",
       " 'MISCELLANEOUS',\n",
       " 'GENERAL',\n",
       " 'PORTABILITY',\n",
       " 'QUALITY',\n",
       " 'PRICE',\n",
       " 'OPERATION_PERFORMANCE',\n",
       " 'CONNECTIVITY',\n",
       " 'USABILITY']"
      ]
     },
     "execution_count": 36,
     "metadata": {},
     "output_type": "execute_result"
    }
   ],
   "source": [
    "tail_category"
   ]
  },
  {
   "cell_type": "code",
   "execution_count": null,
   "metadata": {},
   "outputs": [],
   "source": []
  }
 ],
 "metadata": {
  "interpreter": {
   "hash": "a7c79f2d0ccdbd12bba26dd7f9ad4a21dda833cb8c019fc133cc7de1db296ef2"
  },
  "kernelspec": {
   "display_name": "Python 3.9.7 ('cui')",
   "language": "python",
   "name": "python3"
  },
  "language_info": {
   "codemirror_mode": {
    "name": "ipython",
    "version": 3
   },
   "file_extension": ".py",
   "mimetype": "text/x-python",
   "name": "python",
   "nbconvert_exporter": "python",
   "pygments_lexer": "ipython3",
   "version": "3.9.7"
  },
  "orig_nbformat": 4
 },
 "nbformat": 4,
 "nbformat_minor": 2
}
